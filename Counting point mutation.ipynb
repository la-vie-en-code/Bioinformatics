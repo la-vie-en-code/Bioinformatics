{
 "cells": [
  {
   "cell_type": "code",
   "execution_count": 82,
   "metadata": {},
   "outputs": [
    {
     "name": "stdout",
     "output_type": "stream",
     "text": [
      "484\n"
     ]
    }
   ],
   "source": [
    "#Hamming distance - number of corresponding symbols that differ between two sequences\n",
    "\n",
    "File = open(\"rosalind_hamm.txt\", \"r\",)\n",
    "Seqs = File.read()\n",
    "#set 2 lists\n",
    "Seq = Seqs.split(\"\\n\")\n",
    "Seq1 = Seq[0]\n",
    "Seq2 = Seq[1]\n",
    "#set the starting count\n",
    "Count = 0\n",
    "#loop rules for mismatch\n",
    "if len(Seq1) == len(Seq2):\n",
    "    for n in range(len(Seq1)):\n",
    "        if Seq1[n] != Seq2[n]:\n",
    "            Count += 1\n",
    "#result\n",
    "print(Count)\n",
    "       "
   ]
  }
 ],
 "metadata": {
  "kernelspec": {
   "display_name": "Python 3",
   "language": "python",
   "name": "python3"
  },
  "language_info": {
   "codemirror_mode": {
    "name": "ipython",
    "version": 3
   },
   "file_extension": ".py",
   "mimetype": "text/x-python",
   "name": "python",
   "nbconvert_exporter": "python",
   "pygments_lexer": "ipython3",
   "version": "3.7.3"
  }
 },
 "nbformat": 4,
 "nbformat_minor": 2
}
