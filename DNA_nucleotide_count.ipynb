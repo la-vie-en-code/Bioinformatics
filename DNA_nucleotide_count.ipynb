{
 "cells": [
  {
   "cell_type": "code",
   "execution_count": 30,
   "metadata": {},
   "outputs": [
    {
     "name": "stdout",
     "output_type": "stream",
     "text": [
      "20 12 17 21\n"
     ]
    }
   ],
   "source": [
    "# open the training sequence\n",
    "sequence = \"AGCTTTTCATTCTGACTGCAACGGGCAATATGTCTCTGTGTGGATTAAAAAAAGAGTGTCTGATAGCAGC\"\n",
    "A = sequence.count(\"A\")\n",
    "T = sequence.count(\"T\")\n",
    "G = sequence.count(\"G\")\n",
    "C = sequence.count(\"C\")\n",
    "Count = (A, C, G, T)\n",
    "print(*Count)"
   ]
  },
  {
   "cell_type": "code",
   "execution_count": 39,
   "metadata": {},
   "outputs": [
    {
     "name": "stdout",
     "output_type": "stream",
     "text": [
      "242 232 232 193\n"
     ]
    }
   ],
   "source": [
    "# open the exam sequence\n",
    "sequence = \"CAGGTAACATCATTCACGAACCCGGGGCCCCTTAGACATACTTGGAGGAGAGCAAACAGATGGGGAGTCCGAGGCGCTTTAAGCATCTCTAACGTCAAGCACCCCGATACATTCAGCGAGGTGGATGTCAACCTCGTGAGGATCATCGGGTTATGTCTGGGGCGTGGACGCCCAACCTTAGTACTCGAGGGCGCTGCTTCAACTCGTGAGGTATTACTTAGCTATCATCCGAGCAGAGCGGTGACCTTATACTCTGTGCCGCCGTGCAATCGCCTATGATCAGGCGGAAGGGCGGAATGTCATAAACTAGTTCCGGCGAATAAATCCATACGGACCGTAGAGCATGAGAATTGCCGGAAGGTATGAATTCTCACCCCAAATTAGCCCCAAAGTTTCCCTTGGTAAGAACGTCTGATATCGGACTGTCAGGAACGCTCGGCCGACCAGTATCTAGTAAAGTTCTCCCCGCAGCCAACTAGCGTCGCATCTTCCAGCGTTAGAAAACGTTTTAGGAACGCTTGCCATTCCTTGTCTGATATAAGGCGGATCGGGGGAAAAATCAGTCCATGATAATGATCCTGTGTTTCGGGACACTAATAACATCTGCAGAAATGGTGCAGCTCGTCTTCGAAGCCAAGCGTAAGCCCAAGAAAACCGCGCTCCCACGCCGAACGCGTCTAGGCAAAAGGCCAGTTGAGTGTGATCTCTTAAATAATGCGGAATCTTGGGGATGGCTACGAACAAACACTCTGAAATCTTACCTCCAAGACTTAAACGCAGGCCTGAAACGATAGCTCCTAGAGGCGAGGCATATAGCCCGTACGACTTACGCTGACCTAAAGATCCCTAGCACACGAGGATCCAGCACGCCAGAAGCGGGTCGCTTGGAGCCTGGTGTG\"\n",
    "# individual subnucleotide counting\n",
    "A = sequence.count(\"A\")\n",
    "T = sequence.count(\"T\")\n",
    "G = sequence.count(\"G\")\n",
    "C = sequence.count(\"C\")\n",
    "Count = A, C, G, T\n",
    "print(*Count)"
   ]
  },
  {
   "cell_type": "code",
   "execution_count": null,
   "metadata": {},
   "outputs": [],
   "source": []
  }
 ],
 "metadata": {
  "kernelspec": {
   "display_name": "Python 3",
   "language": "python",
   "name": "python3"
  },
  "language_info": {
   "codemirror_mode": {
    "name": "ipython",
    "version": 3
   },
   "file_extension": ".py",
   "mimetype": "text/x-python",
   "name": "python",
   "nbconvert_exporter": "python",
   "pygments_lexer": "ipython3",
   "version": "3.7.3"
  }
 },
 "nbformat": 4,
 "nbformat_minor": 2
}
