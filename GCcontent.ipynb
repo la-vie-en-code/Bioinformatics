{
 "cells": [
  {
   "cell_type": "code",
   "execution_count": 4,
   "metadata": {},
   "outputs": [
    {
     "name": "stdout",
     "output_type": "stream",
     "text": [
      "Rosalind_9928\n",
      "52.958877\n"
     ]
    }
   ],
   "source": [
    "#open fasta file\n",
    "fasta = open(\"rosalind_gc-3.txt\",\"r\")\n",
    "#arrange fasta to get ID and seq\n",
    "IDSEQ = ''.join([x.strip('\\r\\n') for x in fasta.readlines()]).split('>Rosalind_')\n",
    "#create a fasta dic\n",
    "fastdic = {}\n",
    "del IDSEQ[0]\n",
    "# total and GC count from seq\n",
    "for nuc in IDSEQ:\n",
    "    GC = 0;\n",
    "    Total=0;\n",
    "    DNA = str(nuc[4:])\n",
    "    for n in DNA:\n",
    "        Total +=1\n",
    "        if n =='C' or n =='G':\n",
    "            GC+=1\n",
    "    fastdic[nuc[:4]]=(100.000*GC)/Total\n",
    "#order the %GC\n",
    "TOP = max(fastdic, key=fastdic.get)\n",
    "print (\"Rosalind_\"+str(TOP)+'\\n'+(\"{0:.6f}\".format(round(fastdic[TOP],6))))"
   ]
  }
 ],
 "metadata": {
  "kernelspec": {
   "display_name": "Python 3",
   "language": "python",
   "name": "python3"
  },
  "language_info": {
   "codemirror_mode": {
    "name": "ipython",
    "version": 3
   },
   "file_extension": ".py",
   "mimetype": "text/x-python",
   "name": "python",
   "nbconvert_exporter": "python",
   "pygments_lexer": "ipython3",
   "version": "3.7.3"
  }
 },
 "nbformat": 4,
 "nbformat_minor": 2
}
