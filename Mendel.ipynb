{
 "cells": [
  {
   "cell_type": "code",
   "execution_count": 35,
   "metadata": {},
   "outputs": [],
   "source": [
    "#Calculate the probability for obtaining a dominant phenotype from a population\n",
    "##Data\n",
    "### k = Homo Dom ; m = Hetero Dom/rec and n = Homo rec\n",
    "\n",
    "def Dominant(k,m,n):\n",
    "    #prob to have a dominant = 1-prob to have a recive\n",
    "    t = k+m+n\n",
    "    #prob for homR - homR\n",
    "    #chance to have a rec allele in HomR = 100% = 1\n",
    "    pr1 = (n/t)*(1) * ((n-1)/(t-1))*(1)\n",
    "    #chance to have Het-homR\n",
    "    #chance to have a rec allele in Het = 50% = 0,5\n",
    "    pr2 = (m/t)*(1/2) * (n/(t-1))*(1)\n",
    "    #chance to have homR - Rec\n",
    "    pr3 = (n/t)*(1) * (m/(t-1))*(1/2)\n",
    "    #chance to have het - het\n",
    "    pr4 = (m/t)*(1/2) * ((m-1)/(t-1))*(1/2)\n",
    "    #total prob to have a rec phenotype\n",
    "    prt = pr1 + pr2 + pr3 + pr4\n",
    "    #prob for a dom phenotype\n",
    "    prd = 1 - prt\n",
    "    return prd\n",
    "    "
   ]
  },
  {
   "cell_type": "code",
   "execution_count": 37,
   "metadata": {},
   "outputs": [
    {
     "data": {
      "text/plain": [
       "0.8513824884792627"
      ]
     },
     "execution_count": 37,
     "metadata": {},
     "output_type": "execute_result"
    }
   ],
   "source": [
    "Dominant(29,19,15)"
   ]
  }
 ],
 "metadata": {
  "kernelspec": {
   "display_name": "Python 3",
   "language": "python",
   "name": "python3"
  },
  "language_info": {
   "codemirror_mode": {
    "name": "ipython",
    "version": 3
   },
   "file_extension": ".py",
   "mimetype": "text/x-python",
   "name": "python",
   "nbconvert_exporter": "python",
   "pygments_lexer": "ipython3",
   "version": "3.7.3"
  }
 },
 "nbformat": 4,
 "nbformat_minor": 2
}
