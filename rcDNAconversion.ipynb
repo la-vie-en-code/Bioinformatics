{
 "cells": [
  {
   "cell_type": "code",
   "execution_count": 10,
   "metadata": {},
   "outputs": [
    {
     "name": "stdout",
     "output_type": "stream",
     "text": [
      "GGCCAATT\n"
     ]
    }
   ],
   "source": [
    "#import dna sequence sample dataset\n",
    "Seq = \"AATTGGCC\"\n",
    "\n",
    "#revert Seq function\n",
    "rSeq = Seq[::-1]\n",
    "#generate complement conversion loop\n",
    "for i in rSeq:\n",
    "    rcDNAA= i\n",
    "    if(i==\"A\"): print(\"T\", end=\"\")\n",
    "    elif(i==\"T\"): print(\"A\", end=\"\")\n",
    "    elif(i==\"G\"): print(\"C\", end=\"\")\n",
    "    elif(i==\"C\"): print(\"G\", end=\"\")\n",
    "#erase the last extra artefact character of rcDNAA to rcDNA\n",
    "rcDNA= rcDNAA[:-1]\n",
    "#display rcDNA\n",
    "print(rcDNA)"
   ]
  },
  {
   "cell_type": "code",
   "execution_count": 11,
   "metadata": {},
   "outputs": [
    {
     "name": "stdout",
     "output_type": "stream",
     "text": [
      "ACCCACAACTGTCGATACGGTAGAGTATTCTCCTGGACAGGGACAGCATAATACCGTAGTGCCCGCCTGGGAGGGAACAAATTCGCCGCCCGGTCGGTATATTATCGTCAGAGTCCGATACCTAATCACGATGGGATTCGATCTCCTCCAGCTCCGCCGACGCAAGGCGACCGAATTGAACGGTGCAGCTCAAATAAGCTTACACAGATTTGGAATGTCAATTTCATAAACTGGTCTTACCCCGCGTAATCATGTGTTCCATGTAAGCACGCGATTCGTGCCCCGGGATGACAGAGGAGGTCCCTTTTGGATAGTATTCTCTTTAAGTGAATTCCCATAGAGGACGCATAAATACATGGCCACCACAAAGTGCATGAATTCATACAGATGATGCGTCCATATTGAGACGTTGCACCTTATCATGGTCATTACGATTTGGCGGCCAGAAACCTAAACTCACTGGTATGACGAGAGTCGAACAGATTCGGCAACTTACTAGGATGCGCCGACAACCATGTACCCGTGCCCAATACTTGCCATGTCCTCAACACGACAGCGAAAGTAGAGGACTGGGGACTCGCAAAGCCAGAGGGAGAAAGCATACCCCACAGTGAGGCGGGTAGGCTTTCTTGGGACTGATGAGCCCTCCGCGGTAGCTATTCACAACCGGTCGATGATGGACCAGTTGGGGGACGACCTAAGTCCGTATGCAACGCCCTGGGCACAGGTTCTGCGCCACAATGCGGGCGTTCTTTTATAAGGCCGGATTCGCCGAGTGGATTCGAGGTCGTCCGTGTGCCCCAAAATCTCACATACAGTCATCTTCAAAACGAACGTTGAGGAGGTAAAACCACATGCTAATAGCGAACGAAGAGTGCACAGGCCTTGGCAAGCTTCTTGATCTGCCTAAAGGTTGCTTCCGGGACCTATACTGCCGCTAGT\n"
     ]
    }
   ],
   "source": [
    "#import dna sequence\n",
    "Seq = \"ACTAGCGGCAGTATAGGTCCCGGAAGCAACCTTTAGGCAGATCAAGAAGCTTGCCAAGGCCTGTGCACTCTTCGTTCGCTATTAGCATGTGGTTTTACCTCCTCAACGTTCGTTTTGAAGATGACTGTATGTGAGATTTTGGGGCACACGGACGACCTCGAATCCACTCGGCGAATCCGGCCTTATAAAAGAACGCCCGCATTGTGGCGCAGAACCTGTGCCCAGGGCGTTGCATACGGACTTAGGTCGTCCCCCAACTGGTCCATCATCGACCGGTTGTGAATAGCTACCGCGGAGGGCTCATCAGTCCCAAGAAAGCCTACCCGCCTCACTGTGGGGTATGCTTTCTCCCTCTGGCTTTGCGAGTCCCCAGTCCTCTACTTTCGCTGTCGTGTTGAGGACATGGCAAGTATTGGGCACGGGTACATGGTTGTCGGCGCATCCTAGTAAGTTGCCGAATCTGTTCGACTCTCGTCATACCAGTGAGTTTAGGTTTCTGGCCGCCAAATCGTAATGACCATGATAAGGTGCAACGTCTCAATATGGACGCATCATCTGTATGAATTCATGCACTTTGTGGTGGCCATGTATTTATGCGTCCTCTATGGGAATTCACTTAAAGAGAATACTATCCAAAAGGGACCTCCTCTGTCATCCCGGGGCACGAATCGCGTGCTTACATGGAACACATGATTACGCGGGGTAAGACCAGTTTATGAAATTGACATTCCAAATCTGTGTAAGCTTATTTGAGCTGCACCGTTCAATTCGGTCGCCTTGCGTCGGCGGAGCTGGAGGAGATCGAATCCCATCGTGATTAGGTATCGGACTCTGACGATAATATACCGACCGGGCGGCGAATTTGTTCCCTCCCAGGCGGGCACTACGGTATTATGCTGTCCCTGTCCAGGAGAATACTCTACCGTATCGACAGTTGTGGGT\"\n",
    "\n",
    "#revert Seq function\n",
    "rSeq = Seq[::-1]\n",
    "#generate complement conversion loop\n",
    "for i in rSeq:\n",
    "    rcDNAA= i\n",
    "    if(i==\"A\"): print(\"T\", end=\"\")\n",
    "    elif(i==\"T\"): print(\"A\", end=\"\")\n",
    "    elif(i==\"G\"): print(\"C\", end=\"\")\n",
    "    elif(i==\"C\"): print(\"G\", end=\"\")\n",
    "#erase the last extra artefact character of rcDNAA to rcDNA\n",
    "rcDNA= rcDNAA[:-1]\n",
    "#display rcDNA\n",
    "print(rcDNA)"
   ]
  },
  {
   "cell_type": "code",
   "execution_count": null,
   "metadata": {},
   "outputs": [],
   "source": []
  },
  {
   "cell_type": "code",
   "execution_count": null,
   "metadata": {},
   "outputs": [],
   "source": []
  }
 ],
 "metadata": {
  "kernelspec": {
   "display_name": "Python 3",
   "language": "python",
   "name": "python3"
  },
  "language_info": {
   "codemirror_mode": {
    "name": "ipython",
    "version": 3
   },
   "file_extension": ".py",
   "mimetype": "text/x-python",
   "name": "python",
   "nbconvert_exporter": "python",
   "pygments_lexer": "ipython3",
   "version": "3.7.3"
  }
 },
 "nbformat": 4,
 "nbformat_minor": 2
}
